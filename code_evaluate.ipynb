{
 "cells": [
  {
   "cell_type": "code",
   "execution_count": 1,
   "metadata": {},
   "outputs": [
    {
     "name": "stdout",
     "output_type": "stream",
     "text": [
      "Using device:  /device:GPU:0\n"
     ]
    }
   ],
   "source": [
    "import os\n",
    "import sys\n",
    "import tensorflow as tf\n",
    "import numpy as np\n",
    "import math\n",
    "import timeit\n",
    "import scipy\n",
    "\n",
    "#import matplotlib.pyplot as plt\n",
    "import CNet\n",
    "import provider\n",
    "import TR\n",
    "#%matplotlib inline\n",
    "USE_GPU = True\n",
    "\n",
    "if USE_GPU:\n",
    "    device = '/device:GPU:0'\n",
    "else:\n",
    "    device = '/cpu:0'\n",
    "\n",
    "# Constant to control how often we print when training models\n",
    "print_every = 100\n",
    "\n",
    "print('Using device: ', device)"
   ]
  },
  {
   "cell_type": "code",
   "execution_count": 2,
   "metadata": {
    "scrolled": false
   },
   "outputs": [
    {
     "name": "stderr",
     "output_type": "stream",
     "text": [
      "WARNING: Logging before flag parsing goes to stderr.\n",
      "W0930 12:51:02.681432 139644217132992 deprecation_wrapper.py:119] From /home/nj/文档/NJ/centralnet_code/CNet.py:248: The name tf.placeholder is deprecated. Please use tf.compat.v1.placeholder instead.\n",
      "\n",
      "W0930 12:51:02.687551 139644217132992 deprecation_wrapper.py:119] From /home/nj/文档/NJ/centralnet_code/CNet.py:14: The name tf.layers.Conv2D is deprecated. Please use tf.compat.v1.layers.Conv2D instead.\n",
      "\n",
      "W0930 12:51:02.689920 139644217132992 deprecation_wrapper.py:119] From /home/nj/文档/NJ/centralnet_code/CNet.py:24: The name tf.layers.MaxPooling2D is deprecated. Please use tf.compat.v1.layers.MaxPooling2D instead.\n",
      "\n",
      "W0930 12:51:02.696255 139644217132992 deprecation_wrapper.py:119] From /home/nj/文档/NJ/centralnet_code/CNet.py:94: The name tf.layers.Dense is deprecated. Please use tf.compat.v1.layers.Dense instead.\n",
      "\n"
     ]
    },
    {
     "name": "stdout",
     "output_type": "stream",
     "text": [
      "Tensor(\"Placeholder_3:0\", shape=(), dtype=bool, device=/device:GPU:0)\n"
     ]
    },
    {
     "name": "stderr",
     "output_type": "stream",
     "text": [
      "W0930 12:51:04.450385 139644217132992 deprecation_wrapper.py:119] From /home/nj/文档/NJ/centralnet_code/CNet.py:260: The name tf.trainable_variables is deprecated. Please use tf.compat.v1.trainable_variables instead.\n",
      "\n",
      "W0930 12:51:04.496389 139644217132992 deprecation_wrapper.py:119] From /home/nj/文档/NJ/centralnet_code/evaluate.py:39: The name tf.train.Saver is deprecated. Please use tf.compat.v1.train.Saver instead.\n",
      "\n",
      "W0930 12:51:04.559994 139644217132992 deprecation_wrapper.py:119] From /home/nj/文档/NJ/centralnet_code/evaluate.py:42: The name tf.ConfigProto is deprecated. Please use tf.compat.v1.ConfigProto instead.\n",
      "\n",
      "W0930 12:51:04.560836 139644217132992 deprecation_wrapper.py:119] From /home/nj/文档/NJ/centralnet_code/evaluate.py:46: The name tf.Session is deprecated. Please use tf.compat.v1.Session instead.\n",
      "\n",
      "W0930 12:51:04.585518 139644217132992 deprecation.py:323] From /home/nj/.conda/envs/demo_central3.6/lib/python3.6/site-packages/tensorflow/python/training/saver.py:1276: checkpoint_exists (from tensorflow.python.training.checkpoint_management) is deprecated and will be removed in a future version.\n",
      "Instructions for updating:\n",
      "Use standard file APIs to check for files with this prefix.\n"
     ]
    },
    {
     "name": "stdout",
     "output_type": "stream",
     "text": [
      "Model restored.\n",
      "eval mean loss: 0.087538\n",
      "eval accuracy (angle-1): 0.114362\n",
      "eval accuracy (speed-1): 0.160904\n",
      "eval accuracy (angle-2): 0.239362\n",
      "eval accuracy (speed-2): 0.331117\n",
      "eval accuracy (angle-3): 0.356383\n",
      "eval accuracy (speed-3): 0.464096\n",
      "eval accuracy (angle-4): 0.433511\n",
      "eval accuracy (speed-4): 0.565160\n",
      "eval accuracy (angle-5): 0.497340\n",
      "eval accuracy (speed-5): 0.646277\n",
      "(752, 2) 0 120\n",
      "(752, 2) 120 240\n",
      "(752, 2) 240 360\n",
      "(752, 2) 360 480\n",
      "(752, 2) 480 591\n",
      "(752, 2) 591 711\n",
      "(752, 2) 711 752\n",
      "eval error (mean-max): angle:34.32 speed:35.82\n",
      "eval error (max): angle:38.31 speed:45.51\n",
      "eval error (mean-top5): angle:37.41 speed:40.79\n",
      "eval error (mean): angle:7.22 speed:5.08\n",
      "(752, 2) (752, 2)\n"
     ]
    }
   ],
   "source": [
    "BATCH_SIZE=8\n",
    "MAX_EPOCH=1\n",
    "learning_rate = 3e-5\n",
    "channel_1, channel_2,channel_3,channel_4, num_classes,c1,c2,c3,c4=64,128,256,512,2,64,128,256,512\n",
    "\n",
    "def model_init_fn(inputs1,inputs2, is_training):\n",
    "    model = None\n",
    "\n",
    "    model = CNet.CentralNet(channel_1, channel_2,channel_3,channel_4, num_classes,c1,c2,c3,c4)\n",
    "\n",
    "    return model(inputs1,inputs2)\n",
    "\n",
    "\n",
    "#TR.train_part34(model_init_fn, optimizer_init_fn,5,device,BATCH_SIZE)\n",
    "#tensorflow sucks\n",
    "import evaluate\n",
    "evaluate.Evaluate(model_init_fn,device,BATCH_SIZE)"
   ]
  },
  {
   "cell_type": "code",
   "execution_count": 3,
   "metadata": {},
   "outputs": [
    {
     "ename": "TypeError",
     "evalue": "__init__() got an unexpected keyword argument 'status'",
     "output_type": "error",
     "traceback": [
      "\u001b[0;31m---------------------------------------------------------------------------\u001b[0m",
      "\u001b[0;31mTypeError\u001b[0m                                 Traceback (most recent call last)",
      "\u001b[0;32m<ipython-input-3-3eebbadd22f2>\u001b[0m in \u001b[0;36m<module>\u001b[0;34m\u001b[0m\n\u001b[1;32m     12\u001b[0m     \u001b[0mplt\u001b[0m\u001b[0;34m.\u001b[0m\u001b[0mgca\u001b[0m\u001b[0;34m(\u001b[0m\u001b[0;34m)\u001b[0m\u001b[0;34m.\u001b[0m\u001b[0maxis\u001b[0m\u001b[0;34m(\u001b[0m\u001b[0;34m'off'\u001b[0m\u001b[0;34m)\u001b[0m\u001b[0;34m\u001b[0m\u001b[0m\n\u001b[1;32m     13\u001b[0m \u001b[0;34m\u001b[0m\u001b[0m\n\u001b[0;32m---> 14\u001b[0;31m \u001b[0mdata_input\u001b[0m\u001b[0;34m=\u001b[0m\u001b[0mprovider\u001b[0m\u001b[0;34m.\u001b[0m\u001b[0mDVR_FMAP_Provider\u001b[0m\u001b[0;34m(\u001b[0m\u001b[0mstatus\u001b[0m\u001b[0;34m=\u001b[0m\u001b[0;34m\"snow\"\u001b[0m\u001b[0;34m)\u001b[0m\u001b[0;34m\u001b[0m\u001b[0m\n\u001b[0m\u001b[1;32m     15\u001b[0m \u001b[0mimgs\u001b[0m\u001b[0;34m,\u001b[0m\u001b[0mfmaps\u001b[0m\u001b[0;34m,\u001b[0m\u001b[0mlabels\u001b[0m\u001b[0;34m=\u001b[0m\u001b[0mdata_input\u001b[0m\u001b[0;34m.\u001b[0m\u001b[0mload_one_batch\u001b[0m\u001b[0;34m(\u001b[0m\u001b[0;36m8\u001b[0m\u001b[0;34m,\u001b[0m\u001b[0;34m\"val\"\u001b[0m\u001b[0;34m)\u001b[0m\u001b[0;34m\u001b[0m\u001b[0m\n\u001b[1;32m     16\u001b[0m \u001b[0;34m\u001b[0m\u001b[0m\n",
      "\u001b[0;31mTypeError\u001b[0m: __init__() got an unexpected keyword argument 'status'"
     ]
    }
   ],
   "source": [
    "import numpy as np\n",
    "import matplotlib.pyplot as plt\n",
    "import provider\n",
    "%matplotlib inline\n",
    "\n",
    "def imshow_noax(img, normalize=True):\n",
    "    \"\"\" Tiny helper to show images as uint8 and remove axis labels \"\"\"\n",
    "    if normalize:\n",
    "        img_max, img_min = np.max(img), np.min(img)\n",
    "        img = 255.0 * (img - img_min) / (img_max - img_min)\n",
    "    plt.imshow(img.astype('uint8'))\n",
    "    plt.gca().axis('off')\n",
    "\n",
    "data_input=provider.DVR_FMAP_Provider(status=\"snow\")\n",
    "imgs,fmaps,labels=data_input.load_one_batch(8,\"val\")\n",
    "    \n",
    "plt.subplot(2, 3, 1)\n",
    "imshow_noax(imgs[3])\n",
    "plt.title('Original image')\n",
    "plt.subplot(2, 3, 2)\n",
    "imshow_noax(imgs[1])\n",
    "plt.title('Grayscale')\n",
    "plt.subplot(2, 3, 3)\n",
    "imshow_noax(imgs[2])\n",
    "plt.title('Edges')\n",
    "plt.subplot(2, 3, 4)\n",
    "imshow_noax(fmaps[3])\n",
    "plt.subplot(2, 3, 5)\n",
    "imshow_noax(fmaps[1])\n",
    "plt.subplot(2, 3, 6)\n",
    "imshow_noax(fmaps[2])\n",
    "plt.show()"
   ]
  },
  {
   "cell_type": "code",
   "execution_count": null,
   "metadata": {},
   "outputs": [],
   "source": []
  }
 ],
 "metadata": {
  "kernelspec": {
   "display_name": "Python 3",
   "language": "python",
   "name": "python3"
  },
  "language_info": {
   "codemirror_mode": {
    "name": "ipython",
    "version": 3
   },
   "file_extension": ".py",
   "mimetype": "text/x-python",
   "name": "python",
   "nbconvert_exporter": "python",
   "pygments_lexer": "ipython3",
   "version": "3.6.0"
  }
 },
 "nbformat": 4,
 "nbformat_minor": 2
}
